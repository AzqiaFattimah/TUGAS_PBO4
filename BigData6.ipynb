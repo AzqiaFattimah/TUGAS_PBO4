{
  "nbformat": 4,
  "nbformat_minor": 0,
  "metadata": {
    "colab": {
      "provenance": []
    },
    "kernelspec": {
      "name": "python3",
      "display_name": "Python 3"
    },
    "language_info": {
      "name": "python"
    }
  },
  "cells": [
    {
      "cell_type": "code",
      "execution_count": null,
      "metadata": {
        "colab": {
          "base_uri": "https://localhost:8080/"
        },
        "id": "4ggRC-yFwxt2",
        "outputId": "c5010e9b-8416-4c98-d668-93a18f9c0278"
      },
      "outputs": [
        {
          "output_type": "stream",
          "name": "stdout",
          "text": [
            "Collecting pandas==2.2.2\n",
            "  Downloading pandas-2.2.2-cp310-cp310-manylinux_2_17_x86_64.manylinux2014_x86_64.whl.metadata (19 kB)\n",
            "Requirement already satisfied: numpy in /usr/local/lib/python3.10/dist-packages (1.26.4)\n",
            "Collecting pyspark==3.4.1\n",
            "  Downloading pyspark-3.4.1.tar.gz (310.8 MB)\n",
            "\u001b[2K     \u001b[90m━━━━━━━━━━━━━━━━━━━━━━━━━━━━━━━━━━━━━━━━\u001b[0m \u001b[32m310.8/310.8 MB\u001b[0m \u001b[31m4.3 MB/s\u001b[0m eta \u001b[36m0:00:00\u001b[0m\n",
            "\u001b[?25h  Preparing metadata (setup.py) ... \u001b[?25l\u001b[?25hdone\n",
            "Requirement already satisfied: python-dateutil>=2.8.2 in /usr/local/lib/python3.10/dist-packages (from pandas==2.2.2) (2.8.2)\n",
            "Requirement already satisfied: pytz>=2020.1 in /usr/local/lib/python3.10/dist-packages (from pandas==2.2.2) (2024.2)\n",
            "Requirement already satisfied: tzdata>=2022.7 in /usr/local/lib/python3.10/dist-packages (from pandas==2.2.2) (2024.1)\n",
            "Requirement already satisfied: py4j==0.10.9.7 in /usr/local/lib/python3.10/dist-packages (from pyspark==3.4.1) (0.10.9.7)\n",
            "Requirement already satisfied: six>=1.5 in /usr/local/lib/python3.10/dist-packages (from python-dateutil>=2.8.2->pandas==2.2.2) (1.16.0)\n",
            "Downloading pandas-2.2.2-cp310-cp310-manylinux_2_17_x86_64.manylinux2014_x86_64.whl (13.0 MB)\n",
            "\u001b[2K   \u001b[90m━━━━━━━━━━━━━━━━━━━━━━━━━━━━━━━━━━━━━━━━\u001b[0m \u001b[32m13.0/13.0 MB\u001b[0m \u001b[31m38.8 MB/s\u001b[0m eta \u001b[36m0:00:00\u001b[0m\n",
            "\u001b[?25hBuilding wheels for collected packages: pyspark\n",
            "  Building wheel for pyspark (setup.py) ... \u001b[?25l\u001b[?25hdone\n",
            "  Created wheel for pyspark: filename=pyspark-3.4.1-py2.py3-none-any.whl size=311285391 sha256=f4bbea6328c1173c00f9d9e9b579e964df31212ad2f8da5774ce7d371af1d653\n",
            "  Stored in directory: /root/.cache/pip/wheels/0d/77/a3/ff2f74cc9ab41f8f594dabf0579c2a7c6de920d584206e0834\n",
            "Successfully built pyspark\n",
            "Installing collected packages: pyspark, pandas\n",
            "  Attempting uninstall: pandas\n",
            "    Found existing installation: pandas 2.1.4\n",
            "    Uninstalling pandas-2.1.4:\n",
            "      Successfully uninstalled pandas-2.1.4\n",
            "\u001b[31mERROR: pip's dependency resolver does not currently take into account all the packages that are installed. This behaviour is the source of the following dependency conflicts.\n",
            "cudf-cu12 24.4.1 requires pandas<2.2.2dev0,>=2.0, but you have pandas 2.2.2 which is incompatible.\n",
            "google-colab 1.0.0 requires pandas==2.1.4, but you have pandas 2.2.2 which is incompatible.\u001b[0m\u001b[31m\n",
            "\u001b[0mSuccessfully installed pandas-2.2.2 pyspark-3.4.1\n"
          ]
        }
      ],
      "source": [
        "!pip install pandas==2.2.2 numpy pyspark==3.4.1"
      ]
    },
    {
      "cell_type": "code",
      "source": [
        "#Tugas 1\n",
        "from pyspark.sql import SparkSession\n",
        "spark = SparkSession.builder.appName('HandsOnPertemuan6').getOrCreate()\n",
        "\n",
        "data = [('Azqia', 'Pengusaha', 50000000),\n",
        "        ('Sehun', 'Pilot', 4600000),\n",
        "        ('Zara', 'Programmer', 41000000),\n",
        "        ('Azzur', 'Engineer', 30000000)]\n",
        "columns = ['EmployeeName', 'Department', 'Salary']\n",
        "\n",
        "df = spark.createDataFrame(data, schema=columns)\n",
        "df.show()"
      ],
      "metadata": {
        "colab": {
          "base_uri": "https://localhost:8080/"
        },
        "id": "Jr59b1EdxZkj",
        "outputId": "a25d629b-daf6-4db7-e6a9-46a934122250"
      },
      "execution_count": null,
      "outputs": [
        {
          "output_type": "stream",
          "name": "stdout",
          "text": [
            "+------------+----------+--------+\n",
            "|EmployeeName|Department|  Salary|\n",
            "+------------+----------+--------+\n",
            "|       Azqia| Pengusaha|50000000|\n",
            "|       Sehun|     Pilot| 4600000|\n",
            "|        Zara|Programmer|41000000|\n",
            "|       Azzur|  Engineer|30000000|\n",
            "+------------+----------+--------+\n",
            "\n"
          ]
        }
      ]
    },
    {
      "cell_type": "code",
      "source": [
        "# Tugas 2\n",
        "df.select('EmployeeName', 'Salary').show()\n",
        "df.filter(df['Salary'] > 3000).show()\n",
        "df.groupBy('Department').avg('Salary').show()"
      ],
      "metadata": {
        "colab": {
          "base_uri": "https://localhost:8080/"
        },
        "id": "B5zZxojIxnQu",
        "outputId": "6ce2dc8d-5282-4792-dbab-8a8854b3e78f"
      },
      "execution_count": null,
      "outputs": [
        {
          "output_type": "stream",
          "name": "stdout",
          "text": [
            "+------------+--------+\n",
            "|EmployeeName|  Salary|\n",
            "+------------+--------+\n",
            "|       Azqia|50000000|\n",
            "|       Sehun| 4600000|\n",
            "|        Zara|41000000|\n",
            "|       Azzur|30000000|\n",
            "+------------+--------+\n",
            "\n",
            "+------------+----------+--------+\n",
            "|EmployeeName|Department|  Salary|\n",
            "+------------+----------+--------+\n",
            "|       Azqia| Pengusaha|50000000|\n",
            "|       Sehun|     Pilot| 4600000|\n",
            "|        Zara|Programmer|41000000|\n",
            "|       Azzur|  Engineer|30000000|\n",
            "+------------+----------+--------+\n",
            "\n",
            "+----------+-----------+\n",
            "|Department|avg(Salary)|\n",
            "+----------+-----------+\n",
            "|     Pilot|  4600000.0|\n",
            "| Pengusaha|      5.0E7|\n",
            "|Programmer|      4.1E7|\n",
            "|  Engineer|      3.0E7|\n",
            "+----------+-----------+\n",
            "\n"
          ]
        }
      ]
    },
    {
      "cell_type": "code",
      "source": [
        "#Tugas 3\n",
        "df_with_bonus = df.withColumn('SalaryBonus', df['Salary'] * 0.1)\n",
        "df_with_total = df_with_bonus.withColumn('TotalCompensation', df_with_bonus['Salary'] + df_with_bonus['SalaryBonus'])\n",
        "\n",
        "df_with_total.show()"
      ],
      "metadata": {
        "colab": {
          "base_uri": "https://localhost:8080/"
        },
        "id": "iXvXyU0Kywur",
        "outputId": "1f5e7f4d-8d7b-4207-81bc-23442fadbf67"
      },
      "execution_count": null,
      "outputs": [
        {
          "output_type": "stream",
          "name": "stdout",
          "text": [
            "+------------+----------+--------+-----------+-----------------+\n",
            "|EmployeeName|Department|  Salary|SalaryBonus|TotalCompensation|\n",
            "+------------+----------+--------+-----------+-----------------+\n",
            "|       Azqia| Pengusaha|50000000|  5000000.0|            5.5E7|\n",
            "|       Sehun|     Pilot| 4600000|   460000.0|        5060000.0|\n",
            "|        Zara|Programmer|41000000|  4100000.0|           4.51E7|\n",
            "|       Azzur|  Engineer|30000000|  3000000.0|            3.3E7|\n",
            "+------------+----------+--------+-----------+-----------------+\n",
            "\n"
          ]
        }
      ]
    },
    {
      "cell_type": "code",
      "source": [
        "#Tugas 4\n",
        "from pyspark.sql.window import Window\n",
        "from pyspark.sql import functions as F\n",
        "\n",
        "windowSpec = Window.partitionBy('Department').orderBy('Salary')\n",
        "df.withColumn('Rank', F.rank().over(windowSpec)).show()"
      ],
      "metadata": {
        "colab": {
          "base_uri": "https://localhost:8080/"
        },
        "id": "GJLXfo9SzARa",
        "outputId": "cd6c1ba5-35be-4c02-ecd5-0b47522aac5e"
      },
      "execution_count": null,
      "outputs": [
        {
          "output_type": "stream",
          "name": "stdout",
          "text": [
            "+------------+----------+--------+----+\n",
            "|EmployeeName|Department|  Salary|Rank|\n",
            "+------------+----------+--------+----+\n",
            "|       Azzur|  Engineer|30000000|   1|\n",
            "|       Azqia| Pengusaha|50000000|   1|\n",
            "|       Sehun|     Pilot| 4600000|   1|\n",
            "|        Zara|Programmer|41000000|   1|\n",
            "+------------+----------+--------+----+\n",
            "\n"
          ]
        }
      ]
    },
    {
      "cell_type": "code",
      "source": [
        "#Tugas 5\n",
        "Berikut adalah ringkasan dari operasi yang telah dilakukan dengan PySpark dan DataFrames:\n",
        "\n",
        "# 1.Pengenalan Spark dan DataFrames\n",
        "   - PySpark adalah salah satu API Python dari Apache Spark yang digunakan untuk pemrosesan data dalam jumlah besar secara terdistribusi.\n",
        "   - DataFrames di PySpark mirip dengan DataFrames di Pandas untuk menangani volume data besar dan terdistribusi.\n",
        "     DataFrame mempunyai struktur data tabular dengan skema kolom yang terdefinisi.\n",
        "\n",
        "# 2.Transformasi Dasar dengan DataFrames\n",
        "   - Menggunakan metode select() untuk memilih kolom tertentu.\n",
        "   - Menggunakan filter() atau where() untuk menyaring data berdasarkan kondisi tertentu.\n",
        "   - Mengelompokkan data berdasarkan satu atau beberapa kolom menggunakan groupBy() dan melakukan operasi agregasi seperti count(), sum(), avg().\n",
        "   - Mengurutkan data dengan orderBy().\n",
        "\n",
        "# 3.Operasi Data Lanjutan\n",
        "   - PySpark mendukung tipe data kompleks seperti ArrayType, MapType, dan StructType. Tipe ini memungkinkan kita untuk bekerja dengan data yang memiliki struktur lebih rumit, seperti array atau objek nested.\n",
        "   - Menggabungkan dua DataFrame berdasarkan kolom kunci dengan menggunakan operasi seperti join().\n",
        "\n",
        "# 4. Penerapan Teknik pada Proyek Data\n",
        "   - **Pengelolaan Data**: Memilah, menyaring, dan memanipulasi data dari berbagai sumber sebelum analisis lebih lanjut.\n",
        "   - **Analisis Agregat**: Menghitung statistik dasar seperti total penjualan, rata-rata performa karyawan, atau metrik lain dengan operasi agregasi.\n",
        "   - **Data Cleaning**: Menyaring dan membersihkan data dengan teknik filtering, join, dan transformasi data.\n",
        "   - **Analisis Pergerakan Waktu**: Menggunakan window functions untuk menganalisis tren waktu atau pergerakan data dari waktu ke waktu.\n",
        "\n"
      ],
      "metadata": {
        "id": "_rC17E02zF9c"
      },
      "execution_count": null,
      "outputs": []
    }
  ]
}